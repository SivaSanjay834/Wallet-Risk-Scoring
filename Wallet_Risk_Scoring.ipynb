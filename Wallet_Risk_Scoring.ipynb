{
  "nbformat": 4,
  "nbformat_minor": 0,
  "metadata": {
    "colab": {
      "provenance": []
    },
    "kernelspec": {
      "name": "python3",
      "display_name": "Python 3"
    },
    "language_info": {
      "name": "python"
    }
  },
  "cells": [
    {
      "cell_type": "markdown",
      "source": [
        "Wallet Risk Scoring – Overview\n",
        "\n",
        "\n",
        "This notebook calculates a risk score (0–1000) for each wallet address based on lending and borrowing behavior. Higher scores indicate wallets with a higher probability of liquidation or risky borrowing patterns.\n",
        "\n",
        "Synthetic data was generated to simulate Compound V2/V3 activity, including borrowed amount, supplied amount, repayment ratio, liquidation history, and asset volatility.\n",
        "\n",
        "Key features considered were Borrow to Supply Ratio, Repay Ratio, Liquidation Count, Volatile Asset Ratio, and Wallet Activity Level. These features were normalized and combined using a weighted scoring formula to reflect risk accurately.\n",
        "\n",
        "The final output is a CSV file containing each wallet_id and its corresponding risk score, which can help identify high-risk borrowers. This approach can be extended to real on-chain data for production use."
      ],
      "metadata": {
        "id": "jiV6OhR_hRI4"
      }
    },
    {
      "cell_type": "code",
      "execution_count": 4,
      "metadata": {
        "colab": {
          "base_uri": "https://localhost:8080/"
        },
        "id": "bndkg3UWgED5",
        "outputId": "429ac35b-0ebf-4b44-cebb-fd058b3684fe"
      },
      "outputs": [
        {
          "output_type": "stream",
          "name": "stdout",
          "text": [
            "Risk Scoring Complete! CSV saved as 'wallet_risk_scores.csv'\n",
            "                                    wallet_id  score\n",
            "0  0x0039f22efb07a647557c7c5d17854cfd6d489ef3    448\n",
            "1  0x06b51c6882b27cb05e712185531c1f74996dd988    506\n",
            "2  0x0795732aacc448030ef374374eaae57d2965c16c    546\n",
            "3  0x0aaa79f1a86bc8136cd0d1ca0d51964f4e3766f9    676\n",
            "4  0x0fe383e5abc200055a7f391f94a5f5d1f844b9ae    687\n"
          ]
        }
      ],
      "source": [
        "import pandas as pd\n",
        "import numpy as np\n",
        "\n",
        "wallet_df = pd.read_excel(\"Wallet id.xlsx\")\n",
        "\n",
        "num_wallets = len(wallet_df)\n",
        "np.random.seed(42)\n",
        "\n",
        "data = pd.DataFrame({\n",
        "    \"wallet_id\": wallet_df[\"wallet_id\"],\n",
        "    \"total_borrows\": np.random.poisson(3, num_wallets),\n",
        "    \"borrowed_amount\": np.random.uniform(100, 5000, num_wallets),\n",
        "    \"supplied_amount\": np.random.uniform(100, 6000, num_wallets),\n",
        "    \"repaid_amount\": np.random.uniform(50, 5000, num_wallets),\n",
        "    \"liquidation_count\": np.random.poisson(1, num_wallets),\n",
        "    \"volatile_asset_ratio\": np.random.uniform(0, 1, num_wallets),\n",
        "    \"last_active_days_ago\": np.random.randint(1, 180, num_wallets)\n",
        "})\n",
        "\n",
        "data[\"borrow_to_supply_ratio\"] = data[\"borrowed_amount\"] / (data[\"supplied_amount\"] + 1)\n",
        "data[\"repay_ratio\"] = data[\"repaid_amount\"] / (data[\"borrowed_amount\"] + 1)\n",
        "\n",
        "data[\"borrow_to_supply_ratio\"] = data[\"borrow_to_supply_ratio\"].clip(0, 1.5)\n",
        "data[\"repay_ratio\"] = data[\"repay_ratio\"].clip(0, 1.2)\n",
        "\n",
        "\n",
        "def normalize(col):\n",
        "    return (col - col.min()) / (col.max() - col.min() + 1e-9)\n",
        "\n",
        "data[\"bsr_norm\"] = normalize(data[\"borrow_to_supply_ratio\"])\n",
        "data[\"repay_norm\"] = 1 - normalize(data[\"repay_ratio\"])\n",
        "data[\"liq_norm\"] = normalize(data[\"liquidation_count\"])\n",
        "data[\"vol_norm\"] = normalize(data[\"volatile_asset_ratio\"])\n",
        "data[\"activity_norm\"] = normalize(data[\"last_active_days_ago\"])\n",
        "\n",
        "\n",
        "data[\"score\"] = (\n",
        "    0.3 * data[\"bsr_norm\"] +\n",
        "    0.25 * data[\"repay_norm\"] +\n",
        "    0.2 * data[\"liq_norm\"] +\n",
        "    0.15 * data[\"vol_norm\"] +\n",
        "    0.1 * data[\"activity_norm\"]\n",
        ") * 1000\n",
        "\n",
        "\n",
        "data[\"score\"] = data[\"score\"].round().astype(int)\n",
        "\n",
        "final_df = data[[\"wallet_id\", \"score\"]]\n",
        "final_df.to_csv(\"wallet_risk_scores.csv\", index=False)\n",
        "\n",
        "print(\"Risk Scoring Complete! CSV saved as 'wallet_risk_scores.csv'\")\n",
        "print(final_df.head())\n"
      ]
    },
    {
      "cell_type": "code",
      "source": [],
      "metadata": {
        "id": "zFmTZNYWgQJ-"
      },
      "execution_count": null,
      "outputs": []
    }
  ]
}